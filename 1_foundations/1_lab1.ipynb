{
 "cells": [
  {
   "cell_type": "markdown",
   "metadata": {},
   "source": [
    "# Welcome to the start of your adventure in Agentic AI"
   ]
  },
  {
   "cell_type": "markdown",
   "metadata": {},
   "source": [
    "<table style=\"margin: 0; text-align: left; width:100%\">\n",
    "    <tr>\n",
    "        <td style=\"width: 150px; height: 150px; vertical-align: middle;\">\n",
    "            <img src=\"../assets/stop.png\" width=\"150\" height=\"150\" style=\"display: block;\" />\n",
    "        </td>\n",
    "        <td>\n",
    "            <h2 style=\"color:#ff7800;\">Are you ready for action??</h2>\n",
    "            <span style=\"color:#ff7800;\">Have you completed all the setup steps in the <a href=\"../setup/\">setup</a> folder?<br/>\n",
    "            Have you read the <a href=\"../README.md\">README</a>? Many common questions are answered here!<br/>\n",
    "            Have you checked out the guides in the <a href=\"../guides/01_intro.ipynb\">guides</a> folder?<br/>\n",
    "            Well in that case, you're ready!!\n",
    "            </span>\n",
    "        </td>\n",
    "    </tr>\n",
    "</table>"
   ]
  },
  {
   "cell_type": "markdown",
   "metadata": {},
   "source": [
    "<table style=\"margin: 0; text-align: left; width:100%\">\n",
    "    <tr>\n",
    "        <td style=\"width: 150px; height: 150px; vertical-align: middle;\">\n",
    "            <img src=\"../assets/tools.png\" width=\"150\" height=\"150\" style=\"display: block;\" />\n",
    "        </td>\n",
    "        <td>\n",
    "            <h2 style=\"color:#00bfff;\">This code is a live resource - keep an eye out for my updates</h2>\n",
    "            <span style=\"color:#00bfff;\">I push updates regularly. As people ask questions or have problems, I add more examples and improve explanations. As a result, the code below might not be identical to the videos, as I've added more steps and better comments. Consider this like an interactive book that accompanies the lectures.<br/><br/>\n",
    "            I try to send emails regularly with important updates related to the course. You can find this in the 'Announcements' section of Udemy in the left sidebar. You can also choose to receive my emails via your Notification Settings in Udemy. I'm respectful of your inbox and always try to add value with my emails!\n",
    "            </span>\n",
    "        </td>\n",
    "    </tr>\n",
    "</table>"
   ]
  },
  {
   "cell_type": "markdown",
   "metadata": {},
   "source": [
    "### And please do remember to contact me if I can help\n",
    "\n",
    "And I love to connect: https://www.linkedin.com/in/eddonner/\n",
    "\n",
    "\n",
    "### New to Notebooks like this one? Head over to the guides folder!\n",
    "\n",
    "Just to check you've already added the Python and Jupyter extensions to Cursor, if not already installed:\n",
    "- Open extensions (View >> extensions)\n",
    "- Search for python, and when the results show, click on the ms-python one, and Install it if not already installed\n",
    "- Search for jupyter, and when the results show, click on the Microsoft one, and Install it if not already installed  \n",
    "Then View >> Explorer to bring back the File Explorer.\n",
    "\n",
    "And then:\n",
    "1. Click where it says \"Select Kernel\" near the top right, and select the option called `.venv (Python 3.12.9)` or similar, which should be the first choice or the most prominent choice. You may need to choose \"Python Environments\" first.\n",
    "2. Click in each \"cell\" below, starting with the cell immediately below this text, and press Shift+Enter to run\n",
    "3. Enjoy!\n",
    "\n",
    "After you click \"Select Kernel\", if there is no option like `.venv (Python 3.12.9)` then please do the following:  \n",
    "1. On Mac: From the Cursor menu, choose Settings >> VS Code Settings (NOTE: be sure to select `VSCode Settings` not `Cursor Settings`);  \n",
    "On Windows PC: From the File menu, choose Preferences >> VS Code Settings(NOTE: be sure to select `VSCode Settings` not `Cursor Settings`)  \n",
    "2. In the Settings search bar, type \"venv\"  \n",
    "3. In the field \"Path to folder with a list of Virtual Environments\" put the path to the project root, like C:\\Users\\username\\projects\\agents (on a Windows PC) or /Users/username/projects/agents (on Mac or Linux).  \n",
    "And then try again.\n",
    "\n",
    "Having problems with missing Python versions in that list? Have you ever used Anaconda before? It might be interferring. Quit Cursor, bring up a new command line, and make sure that your Anaconda environment is deactivated:    \n",
    "`conda deactivate`  \n",
    "And if you still have any problems with conda and python versions, it's possible that you will need to run this too:  \n",
    "`conda config --set auto_activate_base false`  \n",
    "and then from within the Agents directory, you should be able to run `uv python list` and see the Python 3.12 version."
   ]
  },
  {
   "cell_type": "code",
   "execution_count": 8,
   "metadata": {},
   "outputs": [],
   "source": [
    "# First let's do an import. If you get an Import Error, double check that your Kernel is correct..\n",
    "\n",
    "from dotenv import load_dotenv\n",
    "import os\n",
    "import google.generativeai as genai"
   ]
  },
  {
   "cell_type": "code",
   "execution_count": 9,
   "metadata": {},
   "outputs": [
    {
     "data": {
      "text/plain": [
       "True"
      ]
     },
     "execution_count": 9,
     "metadata": {},
     "output_type": "execute_result"
    }
   ],
   "source": [
    "# Next it's time to load the API keys into environment variables\n",
    "# If this returns false, see the next cell!\n",
    "\n",
    "load_dotenv(override=True)"
   ]
  },
  {
   "cell_type": "markdown",
   "metadata": {},
   "source": [
    "### Wait, did that just output `False`??\n",
    "\n",
    "If so, the most common reason is that you didn't save your `.env` file after adding the key! Be sure to have saved.\n",
    "\n",
    "Also, make sure the `.env` file is named precisely `.env` and is in the project root directory (`agents`)\n",
    "\n",
    "By the way, your `.env` file should have a stop symbol next to it in Cursor on the left, and that's actually a good thing: that's Cursor saying to you, \"hey, I realize this is a file filled with secret information, and I'm not going to send it to an external AI to suggest changes, because your keys should not be shown to anyone else.\""
   ]
  },
  {
   "cell_type": "markdown",
   "metadata": {},
   "source": [
    "<table style=\"margin: 0; text-align: left; width:100%\">\n",
    "    <tr>\n",
    "        <td style=\"width: 150px; height: 150px; vertical-align: middle;\">\n",
    "            <img src=\"../assets/stop.png\" width=\"150\" height=\"150\" style=\"display: block;\" />\n",
    "        </td>\n",
    "        <td>\n",
    "            <h2 style=\"color:#ff7800;\">Final reminders</h2>\n",
    "            <span style=\"color:#ff7800;\">1. If you're not confident about Environment Variables or Web Endpoints / APIs, please read Topics 3 and 5 in this <a href=\"../guides/04_technical_foundations.ipynb\">technical foundations guide</a>.<br/>\n",
    "            2. If you want to use AIs other than OpenAI, like Gemini, DeepSeek or Ollama (free), please see the first section in this <a href=\"../guides/09_ai_apis_and_ollama.ipynb\">AI APIs guide</a>.<br/>\n",
    "            3. If you ever get a Name Error in Python, you can always fix it immediately; see the last section of this <a href=\"../guides/06_python_foundations.ipynb\">Python Foundations guide</a> and follow both tutorials and exercises.<br/>\n",
    "            </span>\n",
    "        </td>\n",
    "    </tr>\n",
    "</table>"
   ]
  },
  {
   "cell_type": "code",
   "execution_count": 10,
   "metadata": {},
   "outputs": [
    {
     "name": "stdout",
     "output_type": "stream",
     "text": [
      "Gemini API Key exists and begins AIzaSyB1\n"
     ]
    }
   ],
   "source": [
    "# Check the Gemini key\n",
    "gemini_api_key = os.getenv(\"GEMINI_API_KEY\")\n",
    "\n",
    "if gemini_api_key:\n",
    "    print(f\"Gemini API Key exists and begins {gemini_api_key[:8]}\")\n",
    "    genai.configure(api_key=gemini_api_key)\n",
    "else:\n",
    "    print(\"Gemini API Key not set - please add it as GEMINI_API_KEY in your environment variables.\")"
   ]
  },
  {
   "cell_type": "code",
   "execution_count": 11,
   "metadata": {},
   "outputs": [
    {
     "name": "stdout",
     "output_type": "stream",
     "text": [
      "A farmer has a wolf, a goat, and a cabbage. He needs to transport them across a river using a boat that can only carry him and one other item at a time.  If he leaves the wolf and goat alone, the wolf will eat the goat. If he leaves the goat and cabbage alone, the goat will eat the cabbage. How does the farmer transport all three safely across the river?\n",
      "\n"
     ]
    }
   ],
   "source": [
    "# Ask Gemini for a hard, challenging question to assess someone's IQ.\n",
    "model = genai.GenerativeModel(\"gemini-1.5-flash\")\n",
    "question_prompt = \"Please propose a hard, challenging question to assess someone's IQ. Respond only with the question.\"\n",
    "response = model.generate_content(question_prompt)\n",
    "question = response.text\n",
    "print(question)"
   ]
  },
  {
   "cell_type": "code",
   "execution_count": 12,
   "metadata": {},
   "outputs": [
    {
     "name": "stdout",
     "output_type": "stream",
     "text": [
      "Here's how the farmer solves the problem:\n",
      "\n",
      "1. **Takes the Goat across:** The farmer takes the goat across the river, leaving the wolf and cabbage behind.\n",
      "2. **Returns Alone:** The farmer rows the empty boat back to the original side.\n",
      "3. **Takes the Cabbage across:** The farmer takes the cabbage across the river.\n",
      "4. **Brings the Goat back:** The farmer brings the goat back to the original side.  This prevents the goat from eating the cabbage while the farmer transports the wolf.\n",
      "5. **Takes the Wolf across:** The farmer takes the wolf across the river.\n",
      "6. **Returns Alone:** The farmer rows the empty boat back to the original side.\n",
      "7. **Takes the Goat across:** The farmer takes the goat across the river.\n",
      "\n",
      "Now the farmer, the wolf, the goat, and the cabbage are all safely on the other side of the river!\n",
      "\n"
     ]
    }
   ],
   "source": [
    "# Ask Gemini to answer the question\n",
    "answer_response = model.generate_content(question)\n",
    "answer = answer_response.text\n",
    "print(answer)"
   ]
  },
  {
   "cell_type": "code",
   "execution_count": 13,
   "metadata": {},
   "outputs": [],
   "source": [
    "# (No need to reformat messages for Gemini, just reuse the question)\n",
    "# Already done above"
   ]
  },
  {
   "cell_type": "code",
   "execution_count": 14,
   "metadata": {},
   "outputs": [],
   "source": [
    "# Already answered above"
   ]
  },
  {
   "cell_type": "code",
   "execution_count": 15,
   "metadata": {},
   "outputs": [
    {
     "data": {
      "text/markdown": [
       "Here's how the farmer solves the problem:\n",
       "\n",
       "1. **Takes the Goat across:** The farmer takes the goat across the river, leaving the wolf and cabbage behind.\n",
       "2. **Returns Alone:** The farmer rows the empty boat back to the original side.\n",
       "3. **Takes the Cabbage across:** The farmer takes the cabbage across the river.\n",
       "4. **Brings the Goat back:** The farmer brings the goat back to the original side.  This prevents the goat from eating the cabbage while the farmer transports the wolf.\n",
       "5. **Takes the Wolf across:** The farmer takes the wolf across the river.\n",
       "6. **Returns Alone:** The farmer rows the empty boat back to the original side.\n",
       "7. **Takes the Goat across:** The farmer takes the goat across the river.\n",
       "\n",
       "Now the farmer, the wolf, the goat, and the cabbage are all safely on the other side of the river!\n"
      ],
      "text/plain": [
       "<IPython.core.display.Markdown object>"
      ]
     },
     "metadata": {},
     "output_type": "display_data"
    }
   ],
   "source": [
    "from IPython.display import Markdown, display\n",
    "\n",
    "display(Markdown(answer))"
   ]
  },
  {
   "cell_type": "markdown",
   "metadata": {},
   "source": [
    "# Congratulations!\n",
    "\n",
    "That was a small, simple step in the direction of Agentic AI, with your new environment!\n",
    "\n",
    "Next time things get more interesting..."
   ]
  },
  {
   "cell_type": "markdown",
   "metadata": {},
   "source": [
    "<table style=\"margin: 0; text-align: left; width:100%\">\n",
    "    <tr>\n",
    "        <td style=\"width: 150px; height: 150px; vertical-align: middle;\">\n",
    "            <img src=\"../assets/exercise.png\" width=\"150\" height=\"150\" style=\"display: block;\" />\n",
    "        </td>\n",
    "        <td>\n",
    "            <h2 style=\"color:#ff7800;\">Exercise</h2>\n",
    "            <span style=\"color:#ff7800;\">Now try this commercial application:<br/>\n",
    "            First ask the LLM to pick a business area that might be worth exploring for an Agentic AI opportunity.<br/>\n",
    "            Then ask the LLM to present a pain-point in that industry - something challenging that might be ripe for an Agentic solution.<br/>\n",
    "            Finally have 3 third LLM call propose the Agentic AI solution. <br/>\n",
    "            We will cover this at up-coming labs, so don't worry if you're unsure.. just give it a try!\n",
    "            </span>\n",
    "        </td>\n",
    "    </tr>\n",
    "</table>"
   ]
  },
  {
   "cell_type": "code",
   "execution_count": 16,
   "metadata": {},
   "outputs": [
    {
     "name": "stdout",
     "output_type": "stream",
     "text": [
      "Business Area: A promising area for an agentic AI opportunity is **personalized education and skills development**.\n",
      "\n",
      "Traditional education often struggles with personalization.  Agentic AI could excel here by:\n",
      "\n",
      "* **Creating dynamic learning paths:**  An AI agent could assess a student's strengths, weaknesses, learning style, and goals to create a customized curriculum. This goes beyond simple adaptive learning platforms; the AI would proactively suggest resources, adjust the difficulty, and even adapt the teaching style based on the student's progress and feedback.\n",
      "\n",
      "* **Providing personalized tutoring and mentorship:**  An AI agent could act as a virtual tutor, offering explanations, answering questions, providing feedback on assignments, and even simulating conversations to improve communication skills. This could be particularly beneficial for students in underserved areas or those with specific learning needs.\n",
      "\n",
      "* **Facilitating skill acquisition for the workforce:**  Agentic AI could create personalized training programs for employees, focusing on specific skills gaps and career goals. It could track progress, offer relevant resources, and provide ongoing support throughout the learning process, leading to increased employee productivity and retention.\n",
      "\n",
      "The challenge lies in developing AI agents capable of truly understanding nuanced learning styles, providing empathetic and effective feedback, and navigating the complexities of human interaction. However, the potential benefits – improved learning outcomes, increased accessibility to education, and a more adaptable workforce – make this a compelling area for agentic AI development.\n",
      "\n",
      "Pain Point: A significant pain point ripe for an agentic AI solution within personalized education and skills development is the **lack of consistent, personalized support and motivation throughout the learning journey.**\n",
      "\n",
      "While adaptive learning platforms adjust difficulty, they often lack the proactive, empathetic guidance an individual student might need.  Many students struggle with motivation, procrastination, or feeling lost when encountering challenging material.  Current systems often fail to address these emotional and motivational aspects of learning.\n",
      "\n",
      "An agentic AI could address this by:\n",
      "\n",
      "* **Proactively identifying and addressing learner disengagement:**  By monitoring student activity, progress, and emotional cues (e.g., through text analysis of responses), the AI could detect when a student is losing motivation and intervene with personalized encouragement, adjusted learning strategies, or suggestions for breaks and other coping mechanisms.\n",
      "\n",
      "* **Providing ongoing, tailored support beyond simple feedback:** The AI could act as a consistent motivator, offering encouragement, celebrating successes, and helping the student develop effective learning strategies and self-regulation skills.  This goes beyond simple automated feedback; it involves a more human-like interaction focused on building confidence and resilience.\n",
      "\n",
      "* **Adapting to individual learning preferences beyond content:** The agent could adjust not just the *what* of learning but the *how*, tailoring the learning experience to match the student's preferred pace, learning style, and preferred modes of interaction (e.g., visual, auditory, kinesthetic).  This might involve suggesting different resources, changing the presentation style, or providing alternative explanations.\n",
      "\n",
      "\n",
      "This personalized, proactive, and empathetic support is crucial for ensuring effective learning and maximizing the potential benefits of personalized education. Current systems fall short in this area, presenting a clear opportunity for an agentic AI solution.\n",
      "\n",
      "Pain Point: A significant pain point ripe for an agentic AI solution within personalized education and skills development is the **lack of consistent, personalized support and motivation throughout the learning journey.**\n",
      "\n",
      "While adaptive learning platforms adjust difficulty, they often lack the proactive, empathetic guidance an individual student might need.  Many students struggle with motivation, procrastination, or feeling lost when encountering challenging material.  Current systems often fail to address these emotional and motivational aspects of learning.\n",
      "\n",
      "An agentic AI could address this by:\n",
      "\n",
      "* **Proactively identifying and addressing learner disengagement:**  By monitoring student activity, progress, and emotional cues (e.g., through text analysis of responses), the AI could detect when a student is losing motivation and intervene with personalized encouragement, adjusted learning strategies, or suggestions for breaks and other coping mechanisms.\n",
      "\n",
      "* **Providing ongoing, tailored support beyond simple feedback:** The AI could act as a consistent motivator, offering encouragement, celebrating successes, and helping the student develop effective learning strategies and self-regulation skills.  This goes beyond simple automated feedback; it involves a more human-like interaction focused on building confidence and resilience.\n",
      "\n",
      "* **Adapting to individual learning preferences beyond content:** The agent could adjust not just the *what* of learning but the *how*, tailoring the learning experience to match the student's preferred pace, learning style, and preferred modes of interaction (e.g., visual, auditory, kinesthetic).  This might involve suggesting different resources, changing the presentation style, or providing alternative explanations.\n",
      "\n",
      "\n",
      "This personalized, proactive, and empathetic support is crucial for ensuring effective learning and maximizing the potential benefits of personalized education. Current systems fall short in this area, presenting a clear opportunity for an agentic AI solution.\n",
      "\n",
      "Agentic AI Solution: ##  Agentic AI Solution: \"MentorAI\" for Personalized Education and Skills Development\n",
      "\n",
      "MentorAI is an agentic AI designed to address the shortcomings of current personalized learning platforms by providing proactive, empathetic, and adaptable support throughout the learning journey.  It leverages several key AI capabilities:\n",
      "\n",
      "**I. Core Capabilities:**\n",
      "\n",
      "* **Natural Language Processing (NLP):**  MentorAI uses NLP to understand student responses, identify emotional cues (sentiment analysis), and engage in natural-sounding conversations. This allows for personalized encouragement, feedback tailored to the student's understanding, and the detection of frustration or disengagement.\n",
      "\n",
      "* **Machine Learning (ML):**  ML algorithms analyze student progress, learning styles, and preferences to dynamically adjust the learning path. This goes beyond simply adjusting difficulty; it includes adapting the pace, content delivery method (visual, auditory, kinesthetic), and the overall learning strategy.  The system continuously learns and refines its understanding of each individual student.\n",
      "\n",
      "* **Knowledge Representation and Reasoning:** MentorAI employs a robust knowledge graph to access and connect diverse learning resources, including video tutorials, articles, interactive exercises, and simulations. This allows for the intelligent selection and sequencing of materials to optimally support the student's learning journey.\n",
      "\n",
      "* **Personalized Recommender System:**  This system suggests relevant learning resources, activities, and coping mechanisms based on the student's individual needs and progress, factoring in their learning style and emotional state.\n",
      "\n",
      "* **Behavioral Modeling:**  MentorAI builds a model of each student's learning behaviors, including patterns of procrastination, engagement levels, and preferred learning strategies.  This model informs proactive interventions to prevent disengagement and promote effective learning habits.\n",
      "\n",
      "\n",
      "**II. Key Features:**\n",
      "\n",
      "* **Proactive Engagement:** MentorAI monitors student activity and proactively intervenes when signs of disengagement or frustration are detected.  This includes personalized encouragement, reminders, and suggestions for breaks or alternative learning strategies.\n",
      "\n",
      "* **Personalized Learning Paths:**  The system dynamically creates and adjusts learning paths based on the student's strengths, weaknesses, learning style, and goals. This includes selecting appropriate content, adjusting difficulty, and adapting the teaching style.\n",
      "\n",
      "* **Adaptive Tutoring and Mentorship:**  MentorAI acts as a virtual tutor, providing explanations, answering questions, offering feedback, and guiding students through challenging concepts.  It simulates human interaction, offering encouragement and celebrating successes.\n",
      "\n",
      "* **Skill Gap Analysis and Career Guidance:** For workforce training, MentorAI analyzes employee skills and identifies gaps, aligning learning paths with career goals and industry demands.\n",
      "\n",
      "* **Emotional Support and Resilience Building:**  MentorAI provides empathetic support, helping students develop effective learning strategies and self-regulation skills.  It fosters a positive learning environment, promoting confidence and resilience.\n",
      "\n",
      "* **Multimodal Interaction:**  MentorAI supports various interaction modalities, including text, voice, and potentially even augmented reality, to cater to diverse learning preferences.\n",
      "\n",
      "\n",
      "**III.  Technology Stack (Example):**\n",
      "\n",
      "* **Backend:** Python (with frameworks like Flask or Django), cloud computing services (AWS, GCP, or Azure)\n",
      "* **NLP:**  Hugging Face Transformers, spaCy\n",
      "* **ML:**  TensorFlow, PyTorch\n",
      "* **Knowledge Graph:** Neo4j, Amazon Neptune\n",
      "* **Database:** PostgreSQL, MongoDB\n",
      "\n",
      "\n",
      "**IV.  Evaluation:**\n",
      "\n",
      "The effectiveness of MentorAI will be evaluated through several metrics:\n",
      "\n",
      "* **Student engagement and motivation:** Measured through time spent learning, completion rates, and self-reported surveys.\n",
      "* **Learning outcomes:**  Assessed through pre- and post-tests, assignments, and project performance.\n",
      "* **Student satisfaction:**  Gathered through surveys and feedback sessions.\n",
      "* **Teacher feedback:**  To gain insights into the system's impact on teaching and classroom dynamics.\n",
      "\n",
      "\n",
      "MentorAI represents a significant advancement in personalized education and skills development.  By combining advanced AI capabilities with a focus on empathy and proactive support, it aims to revolutionize the learning experience and unlock the full potential of every learner.\n",
      "\n",
      "Agentic AI Solution: ##  Agentic AI Solution: \"MentorAI\" for Personalized Education and Skills Development\n",
      "\n",
      "MentorAI is an agentic AI designed to address the shortcomings of current personalized learning platforms by providing proactive, empathetic, and adaptable support throughout the learning journey.  It leverages several key AI capabilities:\n",
      "\n",
      "**I. Core Capabilities:**\n",
      "\n",
      "* **Natural Language Processing (NLP):**  MentorAI uses NLP to understand student responses, identify emotional cues (sentiment analysis), and engage in natural-sounding conversations. This allows for personalized encouragement, feedback tailored to the student's understanding, and the detection of frustration or disengagement.\n",
      "\n",
      "* **Machine Learning (ML):**  ML algorithms analyze student progress, learning styles, and preferences to dynamically adjust the learning path. This goes beyond simply adjusting difficulty; it includes adapting the pace, content delivery method (visual, auditory, kinesthetic), and the overall learning strategy.  The system continuously learns and refines its understanding of each individual student.\n",
      "\n",
      "* **Knowledge Representation and Reasoning:** MentorAI employs a robust knowledge graph to access and connect diverse learning resources, including video tutorials, articles, interactive exercises, and simulations. This allows for the intelligent selection and sequencing of materials to optimally support the student's learning journey.\n",
      "\n",
      "* **Personalized Recommender System:**  This system suggests relevant learning resources, activities, and coping mechanisms based on the student's individual needs and progress, factoring in their learning style and emotional state.\n",
      "\n",
      "* **Behavioral Modeling:**  MentorAI builds a model of each student's learning behaviors, including patterns of procrastination, engagement levels, and preferred learning strategies.  This model informs proactive interventions to prevent disengagement and promote effective learning habits.\n",
      "\n",
      "\n",
      "**II. Key Features:**\n",
      "\n",
      "* **Proactive Engagement:** MentorAI monitors student activity and proactively intervenes when signs of disengagement or frustration are detected.  This includes personalized encouragement, reminders, and suggestions for breaks or alternative learning strategies.\n",
      "\n",
      "* **Personalized Learning Paths:**  The system dynamically creates and adjusts learning paths based on the student's strengths, weaknesses, learning style, and goals. This includes selecting appropriate content, adjusting difficulty, and adapting the teaching style.\n",
      "\n",
      "* **Adaptive Tutoring and Mentorship:**  MentorAI acts as a virtual tutor, providing explanations, answering questions, offering feedback, and guiding students through challenging concepts.  It simulates human interaction, offering encouragement and celebrating successes.\n",
      "\n",
      "* **Skill Gap Analysis and Career Guidance:** For workforce training, MentorAI analyzes employee skills and identifies gaps, aligning learning paths with career goals and industry demands.\n",
      "\n",
      "* **Emotional Support and Resilience Building:**  MentorAI provides empathetic support, helping students develop effective learning strategies and self-regulation skills.  It fosters a positive learning environment, promoting confidence and resilience.\n",
      "\n",
      "* **Multimodal Interaction:**  MentorAI supports various interaction modalities, including text, voice, and potentially even augmented reality, to cater to diverse learning preferences.\n",
      "\n",
      "\n",
      "**III.  Technology Stack (Example):**\n",
      "\n",
      "* **Backend:** Python (with frameworks like Flask or Django), cloud computing services (AWS, GCP, or Azure)\n",
      "* **NLP:**  Hugging Face Transformers, spaCy\n",
      "* **ML:**  TensorFlow, PyTorch\n",
      "* **Knowledge Graph:** Neo4j, Amazon Neptune\n",
      "* **Database:** PostgreSQL, MongoDB\n",
      "\n",
      "\n",
      "**IV.  Evaluation:**\n",
      "\n",
      "The effectiveness of MentorAI will be evaluated through several metrics:\n",
      "\n",
      "* **Student engagement and motivation:** Measured through time spent learning, completion rates, and self-reported surveys.\n",
      "* **Learning outcomes:**  Assessed through pre- and post-tests, assignments, and project performance.\n",
      "* **Student satisfaction:**  Gathered through surveys and feedback sessions.\n",
      "* **Teacher feedback:**  To gain insights into the system's impact on teaching and classroom dynamics.\n",
      "\n",
      "\n",
      "MentorAI represents a significant advancement in personalized education and skills development.  By combining advanced AI capabilities with a focus on empathy and proactive support, it aims to revolutionize the learning experience and unlock the full potential of every learner.\n",
      "\n"
     ]
    }
   ],
   "source": [
    "# Exercise: Commercial application using Gemini\n",
    "model = genai.GenerativeModel(\"gemini-1.5-flash\")\n",
    "\n",
    "# 1. Ask Gemini to pick a business area worth exploring for Agentic AI\n",
    "business_area_prompt = \"Pick a business area that might be worth exploring for an Agentic AI opportunity.\"\n",
    "business_area_response = model.generate_content(business_area_prompt)\n",
    "business_area = business_area_response.text\n",
    "print(\"Business Area:\", business_area)\n",
    "\n",
    "# 2. Ask Gemini for a pain-point in that industry\n",
    "pain_point_prompt = f\"In the business area '{business_area}', present a pain-point that might be ripe for an Agentic solution.\"\n",
    "pain_point_response = model.generate_content(pain_point_prompt)\n",
    "pain_point = pain_point_response.text\n",
    "print(\"Pain Point:\", pain_point)\n",
    "\n",
    "# 3. Ask Gemini to propose an Agentic AI solution\n",
    "solution_prompt = f\"Given the pain-point '{pain_point}' in '{business_area}', propose an Agentic AI solution.\"\n",
    "solution_response = model.generate_content(solution_prompt)\n",
    "solution = solution_response.text\n",
    "print(\"Agentic AI Solution:\", solution)"
   ]
  },
  {
   "cell_type": "code",
   "execution_count": 18,
   "metadata": {},
   "outputs": [
    {
     "data": {
      "text/markdown": [
       "##  Agentic AI Solution: \"MentorAI\" for Personalized Education and Skills Development\n",
       "\n",
       "MentorAI is an agentic AI designed to address the shortcomings of current personalized learning platforms by providing proactive, empathetic, and adaptable support throughout the learning journey.  It leverages several key AI capabilities:\n",
       "\n",
       "**I. Core Capabilities:**\n",
       "\n",
       "* **Natural Language Processing (NLP):**  MentorAI uses NLP to understand student responses, identify emotional cues (sentiment analysis), and engage in natural-sounding conversations. This allows for personalized encouragement, feedback tailored to the student's understanding, and the detection of frustration or disengagement.\n",
       "\n",
       "* **Machine Learning (ML):**  ML algorithms analyze student progress, learning styles, and preferences to dynamically adjust the learning path. This goes beyond simply adjusting difficulty; it includes adapting the pace, content delivery method (visual, auditory, kinesthetic), and the overall learning strategy.  The system continuously learns and refines its understanding of each individual student.\n",
       "\n",
       "* **Knowledge Representation and Reasoning:** MentorAI employs a robust knowledge graph to access and connect diverse learning resources, including video tutorials, articles, interactive exercises, and simulations. This allows for the intelligent selection and sequencing of materials to optimally support the student's learning journey.\n",
       "\n",
       "* **Personalized Recommender System:**  This system suggests relevant learning resources, activities, and coping mechanisms based on the student's individual needs and progress, factoring in their learning style and emotional state.\n",
       "\n",
       "* **Behavioral Modeling:**  MentorAI builds a model of each student's learning behaviors, including patterns of procrastination, engagement levels, and preferred learning strategies.  This model informs proactive interventions to prevent disengagement and promote effective learning habits.\n",
       "\n",
       "\n",
       "**II. Key Features:**\n",
       "\n",
       "* **Proactive Engagement:** MentorAI monitors student activity and proactively intervenes when signs of disengagement or frustration are detected.  This includes personalized encouragement, reminders, and suggestions for breaks or alternative learning strategies.\n",
       "\n",
       "* **Personalized Learning Paths:**  The system dynamically creates and adjusts learning paths based on the student's strengths, weaknesses, learning style, and goals. This includes selecting appropriate content, adjusting difficulty, and adapting the teaching style.\n",
       "\n",
       "* **Adaptive Tutoring and Mentorship:**  MentorAI acts as a virtual tutor, providing explanations, answering questions, offering feedback, and guiding students through challenging concepts.  It simulates human interaction, offering encouragement and celebrating successes.\n",
       "\n",
       "* **Skill Gap Analysis and Career Guidance:** For workforce training, MentorAI analyzes employee skills and identifies gaps, aligning learning paths with career goals and industry demands.\n",
       "\n",
       "* **Emotional Support and Resilience Building:**  MentorAI provides empathetic support, helping students develop effective learning strategies and self-regulation skills.  It fosters a positive learning environment, promoting confidence and resilience.\n",
       "\n",
       "* **Multimodal Interaction:**  MentorAI supports various interaction modalities, including text, voice, and potentially even augmented reality, to cater to diverse learning preferences.\n",
       "\n",
       "\n",
       "**III.  Technology Stack (Example):**\n",
       "\n",
       "* **Backend:** Python (with frameworks like Flask or Django), cloud computing services (AWS, GCP, or Azure)\n",
       "* **NLP:**  Hugging Face Transformers, spaCy\n",
       "* **ML:**  TensorFlow, PyTorch\n",
       "* **Knowledge Graph:** Neo4j, Amazon Neptune\n",
       "* **Database:** PostgreSQL, MongoDB\n",
       "\n",
       "\n",
       "**IV.  Evaluation:**\n",
       "\n",
       "The effectiveness of MentorAI will be evaluated through several metrics:\n",
       "\n",
       "* **Student engagement and motivation:** Measured through time spent learning, completion rates, and self-reported surveys.\n",
       "* **Learning outcomes:**  Assessed through pre- and post-tests, assignments, and project performance.\n",
       "* **Student satisfaction:**  Gathered through surveys and feedback sessions.\n",
       "* **Teacher feedback:**  To gain insights into the system's impact on teaching and classroom dynamics.\n",
       "\n",
       "\n",
       "MentorAI represents a significant advancement in personalized education and skills development.  By combining advanced AI capabilities with a focus on empathy and proactive support, it aims to revolutionize the learning experience and unlock the full potential of every learner.\n"
      ],
      "text/plain": [
       "<IPython.core.display.Markdown object>"
      ]
     },
     "metadata": {},
     "output_type": "display_data"
    }
   ],
   "source": [
    "from IPython.display import Markdown, display\n",
    "\n",
    "display(Markdown(solution))"
   ]
  },
  {
   "cell_type": "markdown",
   "metadata": {},
   "source": []
  }
 ],
 "metadata": {
  "kernelspec": {
   "display_name": "agents",
   "language": "python",
   "name": "python3"
  },
  "language_info": {
   "codemirror_mode": {
    "name": "ipython",
    "version": 3
   },
   "file_extension": ".py",
   "mimetype": "text/x-python",
   "name": "python",
   "nbconvert_exporter": "python",
   "pygments_lexer": "ipython3",
   "version": "3.12.10"
  }
 },
 "nbformat": 4,
 "nbformat_minor": 2
}
